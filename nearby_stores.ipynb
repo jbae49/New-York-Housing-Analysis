{
 "cells": [
  {
   "cell_type": "code",
   "execution_count": 25,
   "metadata": {},
   "outputs": [
    {
     "data": {
      "text/html": [
       "<div>\n",
       "<style scoped>\n",
       "    .dataframe tbody tr th:only-of-type {\n",
       "        vertical-align: middle;\n",
       "    }\n",
       "\n",
       "    .dataframe tbody tr th {\n",
       "        vertical-align: top;\n",
       "    }\n",
       "\n",
       "    .dataframe thead th {\n",
       "        text-align: right;\n",
       "    }\n",
       "</style>\n",
       "<table border=\"1\" class=\"dataframe\">\n",
       "  <thead>\n",
       "    <tr style=\"text-align: right;\">\n",
       "      <th></th>\n",
       "      <th>BROKERTITLE</th>\n",
       "      <th>TYPE</th>\n",
       "      <th>PRICE</th>\n",
       "      <th>BEDS</th>\n",
       "      <th>BATH</th>\n",
       "      <th>PROPERTYSQFT</th>\n",
       "      <th>ADDRESS</th>\n",
       "      <th>STATE</th>\n",
       "      <th>MAIN_ADDRESS</th>\n",
       "      <th>ADMINISTRATIVE_AREA_LEVEL_2</th>\n",
       "      <th>LOCALITY</th>\n",
       "      <th>SUBLOCALITY</th>\n",
       "      <th>STREET_NAME</th>\n",
       "      <th>LONG_NAME</th>\n",
       "      <th>FORMATTED_ADDRESS</th>\n",
       "      <th>LATITUDE</th>\n",
       "      <th>LONGITUDE</th>\n",
       "    </tr>\n",
       "  </thead>\n",
       "  <tbody>\n",
       "    <tr>\n",
       "      <th>0</th>\n",
       "      <td>Brokered by Douglas Elliman  -111 Fifth Ave</td>\n",
       "      <td>Condo for sale</td>\n",
       "      <td>315000</td>\n",
       "      <td>2</td>\n",
       "      <td>2.000000</td>\n",
       "      <td>1400.0</td>\n",
       "      <td>2 E 55th St Unit 803</td>\n",
       "      <td>New York, NY 10022</td>\n",
       "      <td>2 E 55th St Unit 803New York, NY 10022</td>\n",
       "      <td>New York County</td>\n",
       "      <td>New York</td>\n",
       "      <td>Manhattan</td>\n",
       "      <td>East 55th Street</td>\n",
       "      <td>Regis Residence</td>\n",
       "      <td>Regis Residence, 2 E 55th St #803, New York, N...</td>\n",
       "      <td>40.761255</td>\n",
       "      <td>-73.974483</td>\n",
       "    </tr>\n",
       "    <tr>\n",
       "      <th>1</th>\n",
       "      <td>Brokered by Serhant</td>\n",
       "      <td>Condo for sale</td>\n",
       "      <td>195000000</td>\n",
       "      <td>7</td>\n",
       "      <td>10.000000</td>\n",
       "      <td>17545.0</td>\n",
       "      <td>Central Park Tower Penthouse-217 W 57th New Yo...</td>\n",
       "      <td>New York, NY 10019</td>\n",
       "      <td>Central Park Tower Penthouse-217 W 57th New Yo...</td>\n",
       "      <td>United States</td>\n",
       "      <td>New York</td>\n",
       "      <td>New York County</td>\n",
       "      <td>New York</td>\n",
       "      <td>West 57th Street</td>\n",
       "      <td>217 W 57th St, New York, NY 10019, USA</td>\n",
       "      <td>40.766393</td>\n",
       "      <td>-73.980991</td>\n",
       "    </tr>\n",
       "    <tr>\n",
       "      <th>2</th>\n",
       "      <td>Brokered by Sowae Corp</td>\n",
       "      <td>House for sale</td>\n",
       "      <td>260000</td>\n",
       "      <td>4</td>\n",
       "      <td>2.000000</td>\n",
       "      <td>2015.0</td>\n",
       "      <td>620 Sinclair Ave</td>\n",
       "      <td>Staten Island, NY 10312</td>\n",
       "      <td>620 Sinclair AveStaten Island, NY 10312</td>\n",
       "      <td>United States</td>\n",
       "      <td>New York</td>\n",
       "      <td>Richmond County</td>\n",
       "      <td>Staten Island</td>\n",
       "      <td>Sinclair Avenue</td>\n",
       "      <td>620 Sinclair Ave, Staten Island, NY 10312, USA</td>\n",
       "      <td>40.541805</td>\n",
       "      <td>-74.196109</td>\n",
       "    </tr>\n",
       "    <tr>\n",
       "      <th>3</th>\n",
       "      <td>Brokered by COMPASS</td>\n",
       "      <td>Condo for sale</td>\n",
       "      <td>69000</td>\n",
       "      <td>3</td>\n",
       "      <td>1.000000</td>\n",
       "      <td>445.0</td>\n",
       "      <td>2 E 55th St Unit 908W33</td>\n",
       "      <td>Manhattan, NY 10022</td>\n",
       "      <td>2 E 55th St Unit 908W33Manhattan, NY 10022</td>\n",
       "      <td>United States</td>\n",
       "      <td>New York</td>\n",
       "      <td>New York County</td>\n",
       "      <td>New York</td>\n",
       "      <td>East 55th Street</td>\n",
       "      <td>2 E 55th St, New York, NY 10022, USA</td>\n",
       "      <td>40.761398</td>\n",
       "      <td>-73.974613</td>\n",
       "    </tr>\n",
       "    <tr>\n",
       "      <th>4</th>\n",
       "      <td>Brokered by Sotheby's International Realty - E...</td>\n",
       "      <td>Townhouse for sale</td>\n",
       "      <td>55000000</td>\n",
       "      <td>7</td>\n",
       "      <td>2.373861</td>\n",
       "      <td>14175.0</td>\n",
       "      <td>5 E 64th St</td>\n",
       "      <td>New York, NY 10065</td>\n",
       "      <td>5 E 64th StNew York, NY 10065</td>\n",
       "      <td>United States</td>\n",
       "      <td>New York</td>\n",
       "      <td>New York County</td>\n",
       "      <td>New York</td>\n",
       "      <td>East 64th Street</td>\n",
       "      <td>5 E 64th St, New York, NY 10065, USA</td>\n",
       "      <td>40.767224</td>\n",
       "      <td>-73.969856</td>\n",
       "    </tr>\n",
       "  </tbody>\n",
       "</table>\n",
       "</div>"
      ],
      "text/plain": [
       "                                         BROKERTITLE                TYPE  \\\n",
       "0        Brokered by Douglas Elliman  -111 Fifth Ave      Condo for sale   \n",
       "1                                Brokered by Serhant      Condo for sale   \n",
       "2                             Brokered by Sowae Corp      House for sale   \n",
       "3                                Brokered by COMPASS      Condo for sale   \n",
       "4  Brokered by Sotheby's International Realty - E...  Townhouse for sale   \n",
       "\n",
       "       PRICE  BEDS       BATH  PROPERTYSQFT  \\\n",
       "0     315000     2   2.000000        1400.0   \n",
       "1  195000000     7  10.000000       17545.0   \n",
       "2     260000     4   2.000000        2015.0   \n",
       "3      69000     3   1.000000         445.0   \n",
       "4   55000000     7   2.373861       14175.0   \n",
       "\n",
       "                                             ADDRESS                    STATE  \\\n",
       "0                               2 E 55th St Unit 803       New York, NY 10022   \n",
       "1  Central Park Tower Penthouse-217 W 57th New Yo...       New York, NY 10019   \n",
       "2                                   620 Sinclair Ave  Staten Island, NY 10312   \n",
       "3                            2 E 55th St Unit 908W33      Manhattan, NY 10022   \n",
       "4                                        5 E 64th St       New York, NY 10065   \n",
       "\n",
       "                                        MAIN_ADDRESS  \\\n",
       "0             2 E 55th St Unit 803New York, NY 10022   \n",
       "1  Central Park Tower Penthouse-217 W 57th New Yo...   \n",
       "2            620 Sinclair AveStaten Island, NY 10312   \n",
       "3         2 E 55th St Unit 908W33Manhattan, NY 10022   \n",
       "4                      5 E 64th StNew York, NY 10065   \n",
       "\n",
       "  ADMINISTRATIVE_AREA_LEVEL_2  LOCALITY      SUBLOCALITY       STREET_NAME  \\\n",
       "0             New York County  New York        Manhattan  East 55th Street   \n",
       "1               United States  New York  New York County          New York   \n",
       "2               United States  New York  Richmond County     Staten Island   \n",
       "3               United States  New York  New York County          New York   \n",
       "4               United States  New York  New York County          New York   \n",
       "\n",
       "          LONG_NAME                                  FORMATTED_ADDRESS  \\\n",
       "0   Regis Residence  Regis Residence, 2 E 55th St #803, New York, N...   \n",
       "1  West 57th Street             217 W 57th St, New York, NY 10019, USA   \n",
       "2   Sinclair Avenue     620 Sinclair Ave, Staten Island, NY 10312, USA   \n",
       "3  East 55th Street               2 E 55th St, New York, NY 10022, USA   \n",
       "4  East 64th Street               5 E 64th St, New York, NY 10065, USA   \n",
       "\n",
       "    LATITUDE  LONGITUDE  \n",
       "0  40.761255 -73.974483  \n",
       "1  40.766393 -73.980991  \n",
       "2  40.541805 -74.196109  \n",
       "3  40.761398 -73.974613  \n",
       "4  40.767224 -73.969856  "
      ]
     },
     "execution_count": 25,
     "metadata": {},
     "output_type": "execute_result"
    }
   ],
   "source": [
    "from dotenv import load_dotenv\n",
    "import os\n",
    "import pandas as pd\n",
    "import numpy as np\n",
    "import requests\n",
    "import haversine as hs\n",
    "import time\n",
    "\n",
    "\n",
    "load_dotenv('config.env')\n",
    "map_api_key = os.getenv('GOOGLE_MAP_API_KEY')\n",
    "housing_csv = pd.read_csv('../../Downloads/NY-House-Dataset.csv')\n",
    "housing_df = housing_csv.iloc[:10,:]\n",
    "housing_df.head()\n"
   ]
  },
  {
   "cell_type": "code",
   "execution_count": 66,
   "metadata": {},
   "outputs": [],
   "source": [
    "class NearByStoreSearch():\n",
    "    \"\"\"\n",
    "    A class to search the number of nearby stores using the Google Maps API.\n",
    "    \n",
    "    Attributes:\n",
    "        keywords (list of str): A list of the store names to search for. \n",
    "        location (list of tuple): A list of tuples, where each tuple contains two float values of the latitude and longitude of the location from which the search is run.\n",
    "        radius (int): the search radius in meters within which to find the stores specified the keywords, default is set to 500m, which is considered to be a walking distance.\n",
    "        key (str): Google Maps API registered to use Places API.\n",
    "        \n",
    "    Output:\n",
    "    \"\"\"\n",
    "    def __init__(self, keywords, locations, radius=500, key=map_api_key):\n",
    "        self.keywords = keywords\n",
    "        self.locations = locations\n",
    "        self.radius = radius\n",
    "        self.key = key\n",
    "        self.base_url = \"https://maps.googleapis.com/maps/api/place/nearbysearch/json?\"\n",
    "\n",
    "    def num_of_stores_nearby(self):\n",
    "        radius_in_kilo = self.radius / 1000 # convert meters to kilos\n",
    "        result = {'location':[]}\n",
    "        for k in self.keywords:\n",
    "            result[k] = []\n",
    "\n",
    "        for lat, lng in self.locations:\n",
    "            result['location'].append((lat, lng))\n",
    "            for keyword in self.keywords:\n",
    "                more_pages = True\n",
    "                next_page_token = None\n",
    "                num_of_stores_nearby = 0\n",
    "\n",
    "                while more_pages:\n",
    "                    if next_page_token: \n",
    "                        params = f'keyword={keyword}&location={str(lat)}%2C{str(lng)}&radius={self.radius}&key={self.key}&pagetoken={next_page_token}'\n",
    "                    else:\n",
    "                        params = f'keyword={keyword}&location={str(lat)}%2C{str(lng)}&radius={self.radius}&key={self.key}'\n",
    "                    \n",
    "                    time.sleep(2)\n",
    "                    response = requests.get(self.base_url + params)\n",
    "                    if response.status_code == 200:\n",
    "                        data = response.json()\n",
    "                        results = data.get('results')\n",
    "                        next_page_token = data.get('next_page_token')\n",
    "                        results_locs = [(res['geometry']['location']['lat'], res['geometry']['location']['lng']) for res in results]\n",
    "                        distance_to_results = [hs.haversine((lat, lng), loc) for loc in results_locs]\n",
    "                        num_of_stores_nearby += sum([1 for d in distance_to_results if d < radius_in_kilo])\n",
    "\n",
    "                        more_pages = bool(next_page_token)\n",
    "                    else:\n",
    "                        print(f'Failed to fetch results for {keyword} at {(lat, lng)}')\n",
    "                        break\n",
    "                result[keyword].append(num_of_stores_nearby)\n",
    "                print(f'There are {num_of_stores_nearby} {keyword} within {self.radius}M from {(lat, lng)}')\n",
    "\n",
    "        return result\n",
    "\n",
    "    def num_of_good_restaurants(self):\n",
    "        for lat, lng in self.locations:\n",
    "            param = f'keyword=restaurants&location={str(lat)}%2C{str(lng)}&radius={self.radius}&key={self.key}'\n",
    "            response \n",
    "\n"
   ]
  },
  {
   "cell_type": "markdown",
   "metadata": {},
   "source": []
  },
  {
   "cell_type": "code",
   "execution_count": 67,
   "metadata": {},
   "outputs": [],
   "source": [
    "keywords = ['Starbucks', 'Whole Foods', 'Trader Joes', 'McDonalds', 'Movie Theater', 'Equinox']\n",
    "locations = list(zip(housing_df['LATITUDE'], housing_df['LONGITUDE']))\n",
    "nearby_stores = NearByStoreSearch(keywords, locations)"
   ]
  },
  {
   "cell_type": "code",
   "execution_count": 69,
   "metadata": {},
   "outputs": [
    {
     "name": "stdout",
     "output_type": "stream",
     "text": [
      "There are 10 Starbucks within 500M from (40.761255, -73.9744834)\n",
      "There are 0 Whole Foods within 500M from (40.761255, -73.9744834)\n",
      "There are 0 Trader Joes within 500M from (40.761255, -73.9744834)\n",
      "There are 0 McDonalds within 500M from (40.761255, -73.9744834)\n",
      "There are 8 Starbucks within 500M from (40.7663935, -73.9809909)\n",
      "There are 1 Whole Foods within 500M from (40.7663935, -73.9809909)\n",
      "There are 0 Trader Joes within 500M from (40.7663935, -73.9809909)\n",
      "There are 1 McDonalds within 500M from (40.7663935, -73.9809909)\n",
      "There are 0 Starbucks within 500M from (40.5418051, -74.1961086)\n",
      "There are 0 Whole Foods within 500M from (40.5418051, -74.1961086)\n",
      "There are 0 Trader Joes within 500M from (40.5418051, -74.1961086)\n",
      "There are 0 McDonalds within 500M from (40.5418051, -74.1961086)\n",
      "There are 10 Starbucks within 500M from (40.7613979, -73.9746128)\n",
      "There are 0 Whole Foods within 500M from (40.7613979, -73.9746128)\n",
      "There are 0 Trader Joes within 500M from (40.7613979, -73.9746128)\n",
      "There are 0 McDonalds within 500M from (40.7613979, -73.9746128)\n",
      "There are 3 Starbucks within 500M from (40.7672235, -73.9698561)\n",
      "There are 0 Whole Foods within 500M from (40.7672235, -73.9698561)\n",
      "There are 0 Trader Joes within 500M from (40.7672235, -73.9698561)\n",
      "There are 0 McDonalds within 500M from (40.7672235, -73.9698561)\n",
      "There are 1 Starbucks within 500M from (40.6743632, -73.9587248)\n",
      "There are 0 Whole Foods within 500M from (40.6743632, -73.9587248)\n",
      "There are 0 Trader Joes within 500M from (40.6743632, -73.9587248)\n",
      "There are 0 McDonalds within 500M from (40.6743632, -73.9587248)\n",
      "There are 1 Starbucks within 500M from (40.809448, -73.946777)\n",
      "There are 1 Whole Foods within 500M from (40.809448, -73.946777)\n",
      "There are 0 Trader Joes within 500M from (40.809448, -73.946777)\n",
      "There are 1 McDonalds within 500M from (40.809448, -73.946777)\n",
      "There are 0 Starbucks within 500M from (40.5950017, -74.1064235)\n",
      "There are 0 Whole Foods within 500M from (40.5950017, -74.1064235)\n",
      "There are 0 Trader Joes within 500M from (40.5950017, -74.1064235)\n",
      "There are 0 McDonalds within 500M from (40.5950017, -74.1064235)\n",
      "There are 0 Starbucks within 500M from (40.8215857, -73.8740892)\n",
      "There are 0 Whole Foods within 500M from (40.8215857, -73.8740892)\n",
      "There are 0 Trader Joes within 500M from (40.8215857, -73.8740892)\n",
      "There are 1 McDonalds within 500M from (40.8215857, -73.8740892)\n",
      "There are 0 Starbucks within 500M from (40.6157378, -73.9696944)\n",
      "There are 0 Whole Foods within 500M from (40.6157378, -73.9696944)\n",
      "There are 0 Trader Joes within 500M from (40.6157378, -73.9696944)\n",
      "There are 0 McDonalds within 500M from (40.6157378, -73.9696944)\n"
     ]
    }
   ],
   "source": [
    "housing_df_nearby_stores = nearby_stores.num_of_stores_nearby()"
   ]
  },
  {
   "cell_type": "code",
   "execution_count": 70,
   "metadata": {},
   "outputs": [
    {
     "data": {
      "text/plain": [
       "{'location': [(40.761255, -73.9744834),\n",
       "  (40.7663935, -73.9809909),\n",
       "  (40.5418051, -74.1961086),\n",
       "  (40.7613979, -73.9746128),\n",
       "  (40.7672235, -73.9698561),\n",
       "  (40.6743632, -73.9587248),\n",
       "  (40.809448, -73.946777),\n",
       "  (40.5950017, -74.1064235),\n",
       "  (40.8215857, -73.8740892),\n",
       "  (40.6157378, -73.9696944)],\n",
       " 'Starbucks': [10, 8, 0, 10, 3, 1, 1, 0, 0, 0],\n",
       " 'Whole Foods': [0, 1, 0, 0, 0, 0, 1, 0, 0, 0],\n",
       " 'Trader Joes': [0, 0, 0, 0, 0, 0, 0, 0, 0, 0],\n",
       " 'McDonalds': [0, 1, 0, 0, 0, 0, 1, 0, 1, 0]}"
      ]
     },
     "execution_count": 70,
     "metadata": {},
     "output_type": "execute_result"
    }
   ],
   "source": [
    "housing_df_nearby_stores"
   ]
  },
  {
   "cell_type": "code",
   "execution_count": 37,
   "metadata": {},
   "outputs": [
    {
     "data": {
      "text/plain": [
       "[(10, 30), (40, 93)]"
      ]
     },
     "execution_count": 37,
     "metadata": {},
     "output_type": "execute_result"
    }
   ],
   "source": [
    "d['location']"
   ]
  },
  {
   "cell_type": "code",
   "execution_count": 34,
   "metadata": {},
   "outputs": [],
   "source": [
    "d.get('page')"
   ]
  },
  {
   "cell_type": "code",
   "execution_count": 35,
   "metadata": {},
   "outputs": [
    {
     "ename": "KeyError",
     "evalue": "'page'",
     "output_type": "error",
     "traceback": [
      "\u001b[0;31m---------------------------------------------------------------------------\u001b[0m",
      "\u001b[0;31mKeyError\u001b[0m                                  Traceback (most recent call last)",
      "\u001b[0;32m/var/folders/pp/b2jz14q17p598_1pnl_hz9240000gn/T/ipykernel_70217/1423945309.py\u001b[0m in \u001b[0;36m<module>\u001b[0;34m\u001b[0m\n\u001b[0;32m----> 1\u001b[0;31m \u001b[0md\u001b[0m\u001b[0;34m[\u001b[0m\u001b[0;34m'page'\u001b[0m\u001b[0;34m]\u001b[0m\u001b[0;34m\u001b[0m\u001b[0;34m\u001b[0m\u001b[0m\n\u001b[0m",
      "\u001b[0;31mKeyError\u001b[0m: 'page'"
     ]
    }
   ],
   "source": [
    "d['page']"
   ]
  },
  {
   "cell_type": "code",
   "execution_count": 39,
   "metadata": {},
   "outputs": [
    {
     "data": {
      "text/plain": [
       "True"
      ]
     },
     "execution_count": 39,
     "metadata": {},
     "output_type": "execute_result"
    }
   ],
   "source": [
    "bool(1)"
   ]
  },
  {
   "cell_type": "code",
   "execution_count": null,
   "metadata": {},
   "outputs": [],
   "source": []
  }
 ],
 "metadata": {
  "interpreter": {
   "hash": "3d200465b0dec705e441bc0dce6ad298feb89fc170796fb5964d35173ce96586"
  },
  "kernelspec": {
   "display_name": "Python 3.9.7",
   "language": "python",
   "name": "python3"
  },
  "language_info": {
   "codemirror_mode": {
    "name": "ipython",
    "version": 3
   },
   "file_extension": ".py",
   "mimetype": "text/x-python",
   "name": "python",
   "nbconvert_exporter": "python",
   "pygments_lexer": "ipython3",
   "version": "3.9.7"
  },
  "orig_nbformat": 4
 },
 "nbformat": 4,
 "nbformat_minor": 2
}
